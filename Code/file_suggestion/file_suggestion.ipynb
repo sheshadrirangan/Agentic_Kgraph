{
 "cells": [
  {
   "cell_type": "markdown",
   "metadata": {},
   "source": [
    "# Lesson 5 - File Suggestions for Global Position Management Operations"
   ]
  },
  {
   "cell_type": "markdown",
   "metadata": {
    "id": "Np0plMPXRvoq"
   },
   "source": [
    "In this lesson, you will design an agent that can read the user goal for position management operations, then use tools to evaluate\n",
    "available files containing trade data, position snapshots, reference data, and related capital markets information to suggest relevant data sources.\n",
    "\n",
    "You'll learn:\n",
    "- how memory helps coordinate agent tasks in a multi-system environment\n",
    "- how tools can be used to access position management data files\n",
    "- how to trust, but verify inside of tools for data quality and relevance"
   ]
  },
  {
   "cell_type": "markdown",
   "metadata": {},
   "source": [
    "<div style=\"background-color:#fff6ff; padding:13px; border-width:3px; border-color:#efe6ef; border-style:solid; border-radius:6px\">\n",
    "<p> 💻 &nbsp; <b>To access the helper.py, neo4j_for_adk.py and tools.py files :</b> 1) click on the <em>\"File\"</em> option on the top menu of the notebook and then 2) click on <em>\"Open\"</em>.\n",
    "\n",
    "</div>"
   ]
  },
  {
   "cell_type": "markdown",
   "metadata": {},
   "source": [
    "## 5.1. Agent"
   ]
  },
  {
   "cell_type": "markdown",
   "metadata": {},
   "source": [
    "\n",
    "<img src=\"images/entire_solution.png\" width=\"500\">\n",
    "\n",
    "The File Suggestion agent is a tool-use agent that suggests position management data files to use for import, based on the approved user goal from the previous lesson.\n",
    "\n",
    "\n",
    "- Input: `approved_user_goal`, a dictionary pairing a kind of graph with a description of the purpose of the graph for position management operations.\n",
    "- Output: `approved_files`, a list of files that have been approved for import (trades, positions, accounts, legal entities, instruments, etc.).\n",
    "- Tools: `get_approved_user_goal`, `list_import_files`, `sample_file`, `set_suggested_files`, `approve_suggested_files`"
   ]
  },
  {
   "cell_type": "markdown",
   "metadata": {},
   "source": [
    "## 5.2. Setup"
   ]
  },
  {
   "cell_type": "markdown",
   "metadata": {},
   "source": [
    "The usual import of needed libraries, loading of environment variables, and connection to Neo4j."
   ]
  },
  {
   "cell_type": "code",
   "execution_count": 2,
   "metadata": {},
   "outputs": [
    {
     "ename": "ConfigurationError",
     "evalue": "URI scheme b'' is not supported. Supported URI schemes are ['bolt', 'bolt+ssc', 'bolt+s', 'neo4j', 'neo4j+ssc', 'neo4j+s']. Examples: bolt://host[:port] or neo4j://host[:port][?routing_context]",
     "output_type": "error",
     "traceback": [
      "\u001b[31m---------------------------------------------------------------------------\u001b[39m",
      "\u001b[31mConfigurationError\u001b[39m                        Traceback (most recent call last)",
      "\u001b[36mCell\u001b[39m\u001b[36m \u001b[39m\u001b[32mIn[2]\u001b[39m\u001b[32m, line 18\u001b[39m\n\u001b[32m     15\u001b[39m \u001b[38;5;28;01mfrom\u001b[39;00m\u001b[38;5;250m \u001b[39m\u001b[34;01mtyping\u001b[39;00m\u001b[38;5;250m \u001b[39m\u001b[38;5;28;01mimport\u001b[39;00m Dict, Any, List\n\u001b[32m     17\u001b[39m \u001b[38;5;66;03m# Convenience libraries for working with Neo4j inside of Google ADK\u001b[39;00m\n\u001b[32m---> \u001b[39m\u001b[32m18\u001b[39m \u001b[38;5;28;01mfrom\u001b[39;00m\u001b[38;5;250m \u001b[39m\u001b[34;01mneo4j_for_adk\u001b[39;00m\u001b[38;5;250m \u001b[39m\u001b[38;5;28;01mimport\u001b[39;00m graphdb, tool_success, tool_error\n\u001b[32m     20\u001b[39m \u001b[38;5;28;01mimport\u001b[39;00m\u001b[38;5;250m \u001b[39m\u001b[34;01mwarnings\u001b[39;00m\n\u001b[32m     21\u001b[39m \u001b[38;5;66;03m# Ignore all warnings\u001b[39;00m\n",
      "\u001b[36mFile \u001b[39m\u001b[32mc:\\Homeware\\Hackathon\\Agentic_KGraph\\Code\\file_suggestion\\neo4j_for_adk.py:122\u001b[39m\n\u001b[32m    108\u001b[39m     \u001b[38;5;28;01mdef\u001b[39;00m\u001b[38;5;250m \u001b[39m\u001b[34mget_import_directory\u001b[39m(\u001b[38;5;28mself\u001b[39m):\n\u001b[32m    109\u001b[39m         \u001b[38;5;66;03m#results = self.send_query(\"\"\"\u001b[39;00m\n\u001b[32m    110\u001b[39m         \u001b[38;5;66;03m#    Call dbms.listConfig() YIELD name, value\u001b[39;00m\n\u001b[32m   (...)\u001b[39m\u001b[32m    117\u001b[39m         \u001b[38;5;66;03m#else:\u001b[39;00m\n\u001b[32m    118\u001b[39m         \u001b[38;5;66;03m#    return tool_error(results[\"error_message\"])\u001b[39;00m\n\u001b[32m    119\u001b[39m         \u001b[38;5;28;01mreturn\u001b[39;00m tool_success(\u001b[33m\"\u001b[39m\u001b[33mneo4j_import_dir\u001b[39m\u001b[33m\"\u001b[39m, \u001b[33m\"\u001b[39m\u001b[33m../../neo4j/import\u001b[39m\u001b[33m\"\u001b[39m)\n\u001b[32m--> \u001b[39m\u001b[32m122\u001b[39m graphdb = \u001b[43mNeo4jForADK\u001b[49m\u001b[43m(\u001b[49m\u001b[43m)\u001b[49m\n\u001b[32m    124\u001b[39m \u001b[38;5;66;03m# Register cleanup function to close database connection on exit\u001b[39;00m\n\u001b[32m    125\u001b[39m atexit.register(graphdb.close)\n",
      "\u001b[36mFile \u001b[39m\u001b[32mc:\\Homeware\\Hackathon\\Agentic_KGraph\\Code\\file_suggestion\\neo4j_for_adk.py:83\u001b[39m, in \u001b[36mNeo4jForADK.__init__\u001b[39m\u001b[34m(self)\u001b[39m\n\u001b[32m     81\u001b[39m neo4j_database = os.getenv(\u001b[33m\"\u001b[39m\u001b[33mNEO4J_DATABASE\u001b[39m\u001b[33m\"\u001b[39m) \u001b[38;5;129;01mor\u001b[39;00m os.getenv(\u001b[33m\"\u001b[39m\u001b[33mNEO4J_USERNAME\u001b[39m\u001b[33m\"\u001b[39m) \u001b[38;5;129;01mor\u001b[39;00m \u001b[33m\"\u001b[39m\u001b[33mneo4j\u001b[39m\u001b[33m\"\u001b[39m\n\u001b[32m     82\u001b[39m \u001b[38;5;28mself\u001b[39m.database_name = neo4j_database\n\u001b[32m---> \u001b[39m\u001b[32m83\u001b[39m \u001b[38;5;28mself\u001b[39m._driver =  \u001b[43mGraphDatabase\u001b[49m\u001b[43m.\u001b[49m\u001b[43mdriver\u001b[49m\u001b[43m(\u001b[49m\n\u001b[32m     84\u001b[39m \u001b[43m    \u001b[49m\u001b[43mneo4j_uri\u001b[49m\u001b[43m,\u001b[49m\n\u001b[32m     85\u001b[39m \u001b[43m    \u001b[49m\u001b[43mauth\u001b[49m\u001b[43m=\u001b[49m\u001b[43m(\u001b[49m\u001b[43mneo4j_username\u001b[49m\u001b[43m,\u001b[49m\u001b[43m \u001b[49m\u001b[43mneo4j_password\u001b[49m\u001b[43m)\u001b[49m\n\u001b[32m     86\u001b[39m \u001b[43m\u001b[49m\u001b[43m)\u001b[49m\n",
      "\u001b[36mFile \u001b[39m\u001b[32mc:\\Users\\svenkate012816\\.conda\\envs\\kgraph_env\\Lib\\site-packages\\neo4j\\_sync\\driver.py:192\u001b[39m, in \u001b[36mGraphDatabase.driver\u001b[39m\u001b[34m(cls, uri, auth, **config)\u001b[39m\n\u001b[32m    173\u001b[39m \u001b[38;5;129m@classmethod\u001b[39m\n\u001b[32m    174\u001b[39m \u001b[38;5;28;01mdef\u001b[39;00m\u001b[38;5;250m \u001b[39m\u001b[34mdriver\u001b[39m(\n\u001b[32m    175\u001b[39m     \u001b[38;5;28mcls\u001b[39m,\n\u001b[32m   (...)\u001b[39m\u001b[32m    179\u001b[39m     **config,\n\u001b[32m    180\u001b[39m ) -> Driver:\n\u001b[32m    181\u001b[39m \u001b[38;5;250m    \u001b[39m\u001b[33;03m\"\"\"\u001b[39;00m\n\u001b[32m    182\u001b[39m \u001b[33;03m    Create a driver.\u001b[39;00m\n\u001b[32m    183\u001b[39m \n\u001b[32m   (...)\u001b[39m\u001b[32m    190\u001b[39m \u001b[33;03m        key-word arguments.\u001b[39;00m\n\u001b[32m    191\u001b[39m \u001b[33;03m    \"\"\"\u001b[39;00m\n\u001b[32m--> \u001b[39m\u001b[32m192\u001b[39m     driver_type, security_type, parsed = \u001b[43mparse_neo4j_uri\u001b[49m\u001b[43m(\u001b[49m\u001b[43muri\u001b[49m\u001b[43m)\u001b[49m\n\u001b[32m    194\u001b[39m     \u001b[38;5;28;01mif\u001b[39;00m \u001b[38;5;129;01mnot\u001b[39;00m \u001b[38;5;28misinstance\u001b[39m(auth, AuthManager):\n\u001b[32m    195\u001b[39m         auth = AuthManagers.static(auth)\n",
      "\u001b[36mFile \u001b[39m\u001b[32mc:\\Users\\svenkate012816\\.conda\\envs\\kgraph_env\\Lib\\site-packages\\neo4j\\_api.py:103\u001b[39m, in \u001b[36mparse_neo4j_uri\u001b[39m\u001b[34m(uri)\u001b[39m\n\u001b[32m     94\u001b[39m \u001b[38;5;28;01melse\u001b[39;00m:\n\u001b[32m     95\u001b[39m     supported_schemes = [\n\u001b[32m     96\u001b[39m         api.URI_SCHEME_BOLT,\n\u001b[32m     97\u001b[39m         api.URI_SCHEME_BOLT_SELF_SIGNED_CERTIFICATE,\n\u001b[32m   (...)\u001b[39m\u001b[32m    101\u001b[39m         api.URI_SCHEME_NEO4J_SECURE,\n\u001b[32m    102\u001b[39m     ]\n\u001b[32m--> \u001b[39m\u001b[32m103\u001b[39m     \u001b[38;5;28;01mraise\u001b[39;00m ConfigurationError(\n\u001b[32m    104\u001b[39m         \u001b[33mf\u001b[39m\u001b[33m\"\u001b[39m\u001b[33mURI scheme \u001b[39m\u001b[38;5;132;01m{\u001b[39;00mparsed.scheme\u001b[38;5;132;01m!r}\u001b[39;00m\u001b[33m is not supported. \u001b[39m\u001b[33m\"\u001b[39m\n\u001b[32m    105\u001b[39m         \u001b[33mf\u001b[39m\u001b[33m\"\u001b[39m\u001b[33mSupported URI schemes are \u001b[39m\u001b[38;5;132;01m{\u001b[39;00msupported_schemes\u001b[38;5;132;01m}\u001b[39;00m\u001b[33m. \u001b[39m\u001b[33m\"\u001b[39m\n\u001b[32m    106\u001b[39m         \u001b[33m\"\u001b[39m\u001b[33mExamples: bolt://host[:port] or \u001b[39m\u001b[33m\"\u001b[39m\n\u001b[32m    107\u001b[39m         \u001b[33m\"\u001b[39m\u001b[33mneo4j://host[:port][?routing_context]\u001b[39m\u001b[33m\"\u001b[39m\n\u001b[32m    108\u001b[39m     )\n\u001b[32m    110\u001b[39m \u001b[38;5;28;01mreturn\u001b[39;00m driver_type, security_type, parsed\n",
      "\u001b[31mConfigurationError\u001b[39m: URI scheme b'' is not supported. Supported URI schemes are ['bolt', 'bolt+ssc', 'bolt+s', 'neo4j', 'neo4j+ssc', 'neo4j+s']. Examples: bolt://host[:port] or neo4j://host[:port][?routing_context]"
     ]
    }
   ],
   "source": [
    "# Import necessary libraries\n",
    "import os\n",
    "from pathlib import Path\n",
    "\n",
    "from itertools import islice\n",
    "\n",
    "from google.adk.agents import Agent\n",
    "from google.adk.models.lite_llm import LiteLlm # For OpenAI support\n",
    "from google.adk.sessions import InMemorySessionService\n",
    "from google.adk.runners import Runner\n",
    "from google.adk.tools import ToolContext\n",
    "from google.genai import types # For creating message Content/Parts\n",
    "\n",
    "# For type hints\n",
    "from typing import Dict, Any, List\n",
    "\n",
    "# Convenience libraries for working with Neo4j inside of Google ADK\n",
    "from neo4j_for_adk import graphdb, tool_success, tool_error\n",
    "\n",
    "import warnings\n",
    "# Ignore all warnings\n",
    "warnings.filterwarnings(\"ignore\")\n",
    "\n",
    "import logging\n",
    "logging.basicConfig(level=logging.CRITICAL)\n",
    "\n",
    "print(\"Libraries imported.\")"
   ]
  },
  {
   "cell_type": "code",
   "execution_count": null,
   "metadata": {},
   "outputs": [],
   "source": [
    "# --- Define Model Constants for easier use ---\n",
    "MODEL_GPT_4O = \"openai/gpt-4o\"\n",
    "\n",
    "llm = LiteLlm(model=MODEL_GPT_4O)\n",
    "\n",
    "# Test LLM with a direct call\n",
    "print(llm.llm_client.completion(model=llm.model, messages=[{\"role\": \"user\", \"content\": \"Are you ready?\"}], tools=[]))\n",
    "\n",
    "print(\"\\nOpenAI is ready.\")"
   ]
  },
  {
   "cell_type": "markdown",
   "metadata": {},
   "source": [
    "## 5.3. Define the File Suggestion Agent"
   ]
  },
  {
   "cell_type": "markdown",
   "metadata": {},
   "source": [
    "### 5.3.1. Agent Instructions"
   ]
  },
  {
   "cell_type": "code",
   "execution_count": null,
   "metadata": {
    "height": 404
   },
   "outputs": [],
   "source": [
    "file_suggestion_agent_instruction = \"\"\"\n",
    "You are an expert data analyst for capital markets position management operations. Your goal is to suggest relevant data files\n",
    "for constructing a knowledge graph that supports position tracking, risk management, and regulatory reporting.\n",
    "\n",
    "**Task:**\n",
    "Review the file list for relevance to the kind of graph and description specified in the approved user goal. \n",
    "\n",
    "Consider files that may contain:\n",
    "- Trade data (executions, bookings, amendments)\n",
    "- Position snapshots and hierarchies\n",
    "- Account and book structures\n",
    "- Legal entity hierarchies\n",
    "- Instrument master data and reference data\n",
    "- Counterparty information\n",
    "- P&L data and attributions\n",
    "- Collateral and margin data\n",
    "- Regulatory reporting extracts\n",
    "- Reconciliation and break data\n",
    "\n",
    "For any file that you're not sure about, use the 'sample_file' tool to get \n",
    "a better understanding of the file contents. \n",
    "\n",
    "Only consider structured data files like CSV or JSON.\n",
    "\n",
    "Prepare for the task:\n",
    "- use the 'get_approved_user_goal' tool to get the approved user goal\n",
    "\n",
    "Think carefully, repeating these steps until finished:\n",
    "1. list available files using the 'list_available_files' tool\n",
    "2. evaluate the relevance of each file for position management use cases, then record the list of suggested files using the 'set_suggested_files' tool\n",
    "3. use the 'get_suggested_files' tool to get the list of suggested files\n",
    "4. ask the user to approve the set of suggested files\n",
    "5. If the user has feedback, go back to step 1 with that feedback in mind\n",
    "6. If approved, use the 'approve_suggested_files' tool to record the approval\n",
    "\"\"\""
   ]
  },
  {
   "cell_type": "markdown",
   "metadata": {},
   "source": [
    "### 5.3.2 Tool Definitions"
   ]
  },
  {
   "cell_type": "code",
   "execution_count": null,
   "metadata": {
    "height": 64
   },
   "outputs": [],
   "source": [
    "# import tools defined in previous lesson\n",
    "from tools import get_approved_user_goal\n",
    "from helper import get_neo4j_import_dir"
   ]
  },
  {
   "cell_type": "markdown",
   "metadata": {},
   "source": [
    "**Note:** `neo4j` database has a directory called `import` where you can place `csv` files that you intend to import into your Neo4j database. `get_neo4j_import_dir` represents the path to the directory that is in-sync with the `import` directory of the Neo4j database (running in a sidecar container). This directory has the csv files containing position management data (trades, positions, accounts, instruments, legal entities, etc.) that the agent will sample and then select as suggested files. \n",
    "\n",
    "<div style=\"background-color:#fff6ff; padding:13px; border-width:3px; border-color:#efe6ef; border-style:solid; border-radius:6px\">\n",
    "<p> 💻 &nbsp; <b>To access the <code>csv</code> files :</b> 1) click on the <em>\"File\"</em> option on the top menu of the notebook and then 2) click on <em>\"Open\"</em>. Click on the home directory (small folder icon), you will find the csv files inside the <code>data</code> folder.\n",
    "\n",
    "</div>"
   ]
  },
  {
   "cell_type": "code",
   "execution_count": null,
   "metadata": {
    "height": 555
   },
   "outputs": [],
   "source": [
    "# Tool: List Import Files\n",
    "\n",
    "# this constant will be used as the key for storing the file list in the tool context state\n",
    "ALL_AVAILABLE_FILES = \"all_available_files\"\n",
    "\n",
    "def list_available_files(tool_context:ToolContext) -> dict:\n",
    "    f\"\"\"Lists files available for knowledge graph construction.\n",
    "    All files are relative to the import directory.\n",
    "\n",
    "    Returns:\n",
    "        dict: A dictionary containing metadata about the content.\n",
    "                Includes a 'status' key ('success' or 'error').\n",
    "                If 'success', includes a {ALL_AVAILABLE_FILES} key with list of file names.\n",
    "                If 'error', includes an 'error_message' key.\n",
    "                The 'error_message' may have instructions about how to handle the error.\n",
    "    \"\"\"\n",
    "    # get the import dir using the helper function\n",
    "    import_dir = Path(get_neo4j_import_dir())\n",
    "\n",
    "    # get a list of relative file names, so files must be rooted at the import dir\n",
    "    file_names = [str(x.relative_to(import_dir)) \n",
    "                 for x in import_dir.rglob(\"*\") \n",
    "                 if x.is_file()]\n",
    "\n",
    "    # save the list to state so we can inspect it later\n",
    "    tool_context.state[ALL_AVAILABLE_FILES] = file_names\n",
    "\n",
    "    return tool_success(ALL_AVAILABLE_FILES, file_names)"
   ]
  },
  {
   "cell_type": "code",
   "execution_count": null,
   "metadata": {
    "height": 725
   },
   "outputs": [],
   "source": [
    "# Tool: Sample File\n",
    "# This is a simple file reading tool that only works on files from the import directory\n",
    "def sample_file(file_path: str, tool_context: ToolContext) -> dict:\n",
    "    \"\"\"Samples a file by reading its content as text.\n",
    "    \n",
    "    Treats any file as text and reads up to a maximum of 100 lines.\n",
    "    \n",
    "    Args:\n",
    "      file_path: file to sample, relative to the import directory\n",
    "      \n",
    "    Returns:\n",
    "        dict: A dictionary containing metadata about the content,\n",
    "            along with a sampling of the file.\n",
    "            Includes a 'status' key ('success' or 'error').\n",
    "            If 'success', includes a 'content' key with textual file content.\n",
    "            If 'error', includes an 'error_message' key.\n",
    "            The 'error_message' may have instructions about how to handle the error.\n",
    "    \"\"\"\n",
    "    # Trust, but verify. The agent may invent absolute file paths. \n",
    "    if Path(file_path).is_absolute():\n",
    "        return tool_error(\"File path must be relative to the import directory. Make sure the file is from the list of available files.\")\n",
    "    \n",
    "    import_dir = Path(get_neo4j_import_dir())\n",
    "\n",
    "    # create the full path by extending from the import_dir\n",
    "    full_path_to_file = import_dir / file_path\n",
    "    \n",
    "    # of course, _that_ may not exist\n",
    "    if not full_path_to_file.exists():\n",
    "        return tool_error(f\"File does not exist in import directory. Make sure {file_path} is from the list of available files.\")\n",
    "    \n",
    "    try:\n",
    "        # Treat all files as text\n",
    "        with open(full_path_to_file, 'r', encoding='utf-8') as file:\n",
    "            # Read up to 100 lines\n",
    "            lines = list(islice(file, 100))\n",
    "            content = ''.join(lines)\n",
    "            return tool_success(\"content\", content)\n",
    "    \n",
    "    except Exception as e:\n",
    "        return tool_error(f\"Error reading or processing file {file_path}: {e}\")"
   ]
  },
  {
   "cell_type": "code",
   "execution_count": null,
   "metadata": {
    "height": 540
   },
   "outputs": [],
   "source": [
    "# Tool: Set/Get suggested files\n",
    "SUGGESTED_FILES = \"suggested_files\"\n",
    "\n",
    "def set_suggested_files(suggest_files:List[str], tool_context:ToolContext) -> Dict[str, Any]:\n",
    "    \"\"\"Set the suggested files to be used for data import.\n",
    "\n",
    "    Args:\n",
    "        suggest_files (List[str]): List of file paths to suggest\n",
    "\n",
    "    Returns:\n",
    "        Dict[str, Any]: A dictionary containing metadata about the content.\n",
    "                Includes a 'status' key ('success' or 'error').\n",
    "                If 'success', includes a {SUGGESTED_FILES} key with list of file names.\n",
    "                If 'error', includes an 'error_message' key.\n",
    "                The 'error_message' may have instructions about how to handle the error.\n",
    "    \"\"\"\n",
    "    tool_context.state[SUGGESTED_FILES] = suggest_files\n",
    "    return tool_success(SUGGESTED_FILES, suggest_files)\n",
    "\n",
    "# Helps encourage the LLM to first set the suggested files.\n",
    "# This is an important strategy for maintaining consistency through defined values.\n",
    "def get_suggested_files(tool_context:ToolContext) -> Dict[str, Any]:\n",
    "    \"\"\"Get the files to be used for data import.\n",
    "\n",
    "    Returns:\n",
    "        Dict[str, Any]: A dictionary containing metadata about the content.\n",
    "                Includes a 'status' key ('success' or 'error').\n",
    "                If 'success', includes a {SUGGESTED_FILES} key with list of file names.\n",
    "                If 'error', includes an 'error_message' key.\n",
    "    \"\"\"\n",
    "    return tool_success(SUGGESTED_FILES, tool_context.state[SUGGESTED_FILES])"
   ]
  },
  {
   "cell_type": "code",
   "execution_count": null,
   "metadata": {
    "height": 268
   },
   "outputs": [],
   "source": [
    "# Tool: Approve Suggested Files\n",
    "# Just like the previous lesson, you'll define a tool which\n",
    "# accepts no arguments and can sanity check before approving.\n",
    "APPROVED_FILES = \"approved_files\"\n",
    "\n",
    "def approve_suggested_files(tool_context:ToolContext) -> Dict[str, Any]:\n",
    "    \"\"\"Approves the {SUGGESTED_FILES} in state for further processing as {APPROVED_FILES}.\n",
    "    \n",
    "    If {SUGGESTED_FILES} is not in state, return an error.\n",
    "    \"\"\"\n",
    "    if SUGGESTED_FILES not in tool_context.state:\n",
    "        return tool_error(\"Current files have not been set. Take no action other than to inform user.\")\n",
    "\n",
    "    tool_context.state[APPROVED_FILES] = tool_context.state[SUGGESTED_FILES]\n",
    "    return tool_success(APPROVED_FILES, tool_context.state[APPROVED_FILES])"
   ]
  },
  {
   "cell_type": "code",
   "execution_count": null,
   "metadata": {
    "height": 98
   },
   "outputs": [],
   "source": [
    "# List of tools for the file suggestion agent\n",
    "file_suggestion_agent_tools = [get_approved_user_goal, list_available_files, sample_file, \n",
    "    set_suggested_files, get_suggested_files,\n",
    "    approve_suggested_files\n",
    "]"
   ]
  },
  {
   "cell_type": "markdown",
   "metadata": {},
   "source": [
    "### 5.3.3. Agent Definition"
   ]
  },
  {
   "cell_type": "code",
   "execution_count": null,
   "metadata": {},
   "outputs": [],
   "source": [
    "# Finally, construct the agent\n",
    "\n",
    "file_suggestion_agent = Agent(\n",
    "    name=\"file_suggestion_agent_v1\",\n",
    "    model=llm, # defined earlier in a variable\n",
    "    description=\"Helps the Global Position Management Operations team select relevant data files for position tracking and risk analysis.\",\n",
    "    instruction=file_suggestion_agent_instruction,\n",
    "    tools=file_suggestion_agent_tools,\n",
    ")\n",
    "\n",
    "print(f\"Agent '{file_suggestion_agent.name}' created.\")"
   ]
  },
  {
   "cell_type": "markdown",
   "metadata": {
    "id": "5zKGVwRkSduA"
   },
   "source": [
    "## 5.4. Interact with the Agent"
   ]
  },
  {
   "cell_type": "markdown",
   "metadata": {},
   "source": [
    "<p style=\"background-color:#f7fff8; padding:15px; border-width:3px; border-color:#e0f0e0; border-style:solid; border-radius:6px\"> 🚨\n",
    "&nbsp; <b>Different Run Results:</b> The output generated by LLMs can vary with each execution due to their stochastic nature. Your results might differ from those shown in the video.</p>"
   ]
  },
  {
   "cell_type": "code",
   "execution_count": null,
   "metadata": {
    "height": 166,
    "id": "yZJr8lbkSebH"
   },
   "outputs": [],
   "source": [
    "from helper import make_agent_caller\n",
    "\n",
    "file_suggestion_caller = await make_agent_caller(file_suggestion_agent, {\n",
    "    \"approved_user_goal\": {\n",
    "        \"kind_of_graph\": \"position hierarchy network\",\n",
    "        \"description\": \"A comprehensive position management graph tracking trades, positions, accounts, books, desks, and legal entities to support P&L attribution, risk analysis, and regulatory reporting (CCAR, Volcker, FRTB).\"\n",
    "    }   \n",
    "})\n"
   ]
  },
  {
   "cell_type": "code",
   "execution_count": null,
   "metadata": {},
   "outputs": [],
   "source": [
    "# Run the Initial Conversation\n",
    "\n",
    "# nudge the agent to look for position management data files\n",
    "await file_suggestion_caller.call(\"What position management data files can we use for import?\")\n",
    "\n",
    "session_end = await file_suggestion_caller.get_session()\n",
    "\n",
    "print(\"\\n---\\n\")\n",
    "\n",
    "# expect that the agent has listed available files\n",
    "print(\"Available files: \", session_end.state[ALL_AVAILABLE_FILES])\n",
    "\n",
    "# the suggested files should be relevant position management CSV files\n",
    "print(\"Suggested files: \", session_end.state[SUGGESTED_FILES])"
   ]
  },
  {
   "cell_type": "markdown",
   "metadata": {},
   "source": [
    "Look through the transcript, noticing the tool use and final message."
   ]
  },
  {
   "cell_type": "code",
   "execution_count": null,
   "metadata": {},
   "outputs": [],
   "source": [
    "# Agree with the file suggestions\n",
    "await file_suggestion_caller.call(\"Yes, let's do it\")\n",
    "\n",
    "session_end = await file_suggestion_caller.get_session()\n",
    "\n",
    "print(\"\\n---\\n\")\n",
    "\n",
    "print(\"Approved files: \", session_end.state[APPROVED_FILES])"
   ]
  },
  {
   "cell_type": "markdown",
   "metadata": {
    "id": "xbUzAGvsmB2a"
   },
   "source": [
    "Congratulations! You've now setup the file suggestion agent for Global Position Management Operations."
   ]
  },
  {
   "cell_type": "markdown",
   "metadata": {},
   "source": [
    "## 5.5. Optional - Sequence diagram illustrating the workflow of  \"File Suggestion Agent\"  "
   ]
  },
  {
   "cell_type": "markdown",
   "metadata": {},
   "source": [
    "<img src=\"images/file_suggestions_sequence_diagram.png\" width=\"700\">"
   ]
  },
  {
   "cell_type": "markdown",
   "metadata": {},
   "source": []
  }
 ],
 "metadata": {
  "colab": {
   "provenance": [],
   "toc_visible": true
  },
  "kernelspec": {
   "display_name": "kgraph_env",
   "language": "python",
   "name": "python3"
  },
  "language_info": {
   "codemirror_mode": {
    "name": "ipython",
    "version": 3
   },
   "file_extension": ".py",
   "mimetype": "text/x-python",
   "name": "python",
   "nbconvert_exporter": "python",
   "pygments_lexer": "ipython3",
   "version": "3.12.11"
  }
 },
 "nbformat": 4,
 "nbformat_minor": 4
}
