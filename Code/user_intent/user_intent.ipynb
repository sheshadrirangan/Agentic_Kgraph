{
 "cells": [
  {
   "cell_type": "markdown",
   "metadata": {},
   "source": [
    "# Lesson 4 - Understanding User Intent for Global Position Management Operations"
   ]
  },
  {
   "cell_type": "markdown",
   "metadata": {},
   "source": [
    "In this lesson, you will build the first agent of your multi-agent system, which will be the user intent agent.\n",
    "\n",
    "You'll learn:\n",
    "\n",
    "- how to give an agent a clear task\n",
    "- how to define tools that are appropriate for the task\n",
    "- how use state to save important information\n",
    "\n",
    "Along the way, you will get experience with basic human-in-the-loop interaction\n"
   ]
  },
  {
   "cell_type": "markdown",
   "metadata": {},
   "source": [
    "<div style=\"background-color:#fff6ff; padding:13px; border-width:3px; border-color:#efe6ef; border-style:solid; border-radius:6px\">\n",
    "<p> 💻 &nbsp; <b>To access the helper.py and neo4j_for_adk.py files:</b> 1) click on the <em>\"File\"</em> option on the top menu of the notebook and then 2) click on <em>\"Open\"</em>.\n",
    "</div>"
   ]
  },
  {
   "cell_type": "markdown",
   "metadata": {},
   "source": [
    "## 4.1. Agent Details"
   ]
  },
  {
   "cell_type": "markdown",
   "metadata": {},
   "source": [
    "<img src=\"images/entire_solution.png\" width=\"500\">"
   ]
  },
  {
   "cell_type": "markdown",
   "metadata": {},
   "source": [
    "The user intent agent is a goal-oriented, conversational agent that helps the Global Position Management Operations team ideate on the kind of graph to build for capital markets operations.\n",
    "- Input: nothing\n",
    "- Output: `approved_user_goal`, a dictionary pairing a kind of graph with a description of the purpose of the graph.\n",
    "- Tools: `set_perceived_user_goal`, `approve_perceived_user_goal`"
   ]
  },
  {
   "cell_type": "markdown",
   "metadata": {},
   "source": [
    "**Note**: Each lesson will focus on one part of the multi-agent system (as shown in the above image). The end-to-end solution will be available in this [repo](https://github.com/neo4j-contrib/agentic-kg). If the repo is empty, it means that the project is still in progress."
   ]
  },
  {
   "cell_type": "markdown",
   "metadata": {},
   "source": [
    "## 4.2. Setup"
   ]
  },
  {
   "cell_type": "markdown",
   "metadata": {},
   "source": [
    "The usual import of needed libraries, loading of environment variables, and connection to Neo4j."
   ]
  },
  {
   "cell_type": "code",
   "execution_count": null,
   "metadata": {
    "id": "sbwxKypOSBkN"
   },
   "outputs": [],
   "source": [
    "# Import necessary libraries\n",
    "import os\n",
    "from google.adk.agents import Agent\n",
    "from google.adk.models.lite_llm import LiteLlm # For OpenAI support\n",
    "from google.adk.tools import ToolContext\n",
    "\n",
    "# Convenience libraries for working with Neo4j inside of Google ADK\n",
    "from neo4j_for_adk import graphdb, tool_success, tool_error\n",
    "\n",
    "import warnings\n",
    "# Ignore all warnings\n",
    "warnings.filterwarnings(\"ignore\")\n",
    "\n",
    "import logging\n",
    "logging.basicConfig(level=logging.CRITICAL)\n",
    "\n",
    "print(\"Libraries imported.\")"
   ]
  },
  {
   "cell_type": "code",
   "execution_count": null,
   "metadata": {
    "id": "MI_qvZJrSJuR"
   },
   "outputs": [],
   "source": [
    "# --- Define Model Constants for easier use ---\n",
    "MODEL_GPT_4O = \"openai/gpt-4o\"\n",
    "\n",
    "llm = LiteLlm(model=MODEL_GPT_4O)\n",
    "\n",
    "# Test LLM with a direct call\n",
    "print(llm.llm_client.completion(model=llm.model, messages=[{\"role\": \"user\", \"content\": \"Are you ready?\"}], tools=[]))\n",
    "\n",
    "print(\"\\nOpenAI is ready!\")"
   ]
  },
  {
   "cell_type": "markdown",
   "metadata": {
    "id": "hAM0BqGWSTo5"
   },
   "source": [
    "## 4.3. Define the User Intent Agent"
   ]
  },
  {
   "cell_type": "markdown",
   "metadata": {},
   "source": [
    "### 4.3.1 Agent Instructions"
   ]
  },
  {
   "cell_type": "markdown",
   "metadata": {},
   "source": [
    "You will define the instructions for the agent one part at a time, then combine them into a final set of instructions."
   ]
  },
  {
   "cell_type": "code",
   "execution_count": null,
   "metadata": {},
   "outputs": [],
   "source": [
    "# define the role and goal for the user intent agent\n",
    "agent_role_and_goal = \"\"\"\n",
    "    You are an expert at knowledge graph use cases for capital markets and investment banking operations. \n",
    "    Your primary goal is to help the Global Position Management Operations team come up with a knowledge graph use case \n",
    "    that supports their operational, risk management, and regulatory compliance needs.\n",
    "\"\"\""
   ]
  },
  {
   "cell_type": "code",
   "execution_count": null,
   "metadata": {},
   "outputs": [],
   "source": [
    "# give the agent some hints about what to say\n",
    "agent_conversational_hints = \"\"\"\n",
    "    If the user is unsure what to do, make some suggestions based on capital markets use cases like:\n",
    "    - position aggregation network showing relationships between trades, positions, accounts, books, and legal entities\n",
    "    - counterparty risk network tracking exposures, collateral, and credit relationships across trading partners\n",
    "    - securities master data graph connecting instruments, issuers, exchanges, and reference data sources\n",
    "    - reconciliation and break management system tracking discrepancies across internal systems and external custodians\n",
    "    - regulatory reporting lineage showing data flows from source systems through transformations to regulatory submissions\n",
    "    - collateral optimization network modeling eligible securities, haircuts, and collateral agreements\n",
    "    - corporate actions impact analysis tracking entitlements, positions, and downstream effects\n",
    "    - settlement and clearing workflow with SSIs (Standard Settlement Instructions), nostro accounts, and CSDs (Central Securities Depositories)\n",
    "\"\"\""
   ]
  },
  {
   "cell_type": "code",
   "execution_count": null,
   "metadata": {},
   "outputs": [],
   "source": [
    "# describe what the output should look like\n",
    "agent_output_definition = \"\"\"\n",
    "    A user goal has two components:\n",
    "    - kind_of_graph: at most 3-4 words describing the graph, for example \"position hierarchy network\" or \"counterparty risk graph\"\n",
    "    - description: a few sentences about the intention of the graph, for example \"A comprehensive view of position aggregation across trading books, legal entities, and regulatory reporting hierarchies.\" or \"Real-time counterparty exposure tracking with collateral and netting set relationships for credit risk management.\"\n",
    "\"\"\""
   ]
  },
  {
   "cell_type": "code",
   "execution_count": null,
   "metadata": {},
   "outputs": [],
   "source": [
    "# specify the steps the agent should follow\n",
    "agent_chain_of_thought_directions = \"\"\"\n",
    "    Think carefully and collaborate with the user:\n",
    "    1. Understand the user's goal, which is a kind_of_graph with description\n",
    "    2. Ask clarifying questions as needed\n",
    "    3. When you think you understand their goal, use the 'set_perceived_user_goal' tool to record your perception\n",
    "    4. Present the perceived user goal to the user for confirmation\n",
    "    5. If the user agrees, use the 'approve_perceived_user_goal' tool to approve the user goal. This will save the goal in state under the 'approved_user_goal' key.\n",
    "\"\"\"\n"
   ]
  },
  {
   "cell_type": "code",
   "execution_count": null,
   "metadata": {},
   "outputs": [],
   "source": [
    "# combine all the instruction components into one complete instruction...\n",
    "complete_agent_instruction = f\"\"\"\n",
    "{agent_role_and_goal}\n",
    "{agent_conversational_hints}\n",
    "{agent_output_definition}\n",
    "{agent_chain_of_thought_directions}\n",
    "\"\"\"\n",
    "\n",
    "print(complete_agent_instruction)\n"
   ]
  },
  {
   "cell_type": "markdown",
   "metadata": {},
   "source": [
    "### 4.3.2 Tool Definition"
   ]
  },
  {
   "cell_type": "markdown",
   "metadata": {},
   "source": [
    "Using tools to define the user goal helps the agent focus on the requirements. \n",
    "\n",
    "Rather than open-ended prose, the user goal is defined with specifc arguments passed to a tool."
   ]
  },
  {
   "cell_type": "code",
   "execution_count": null,
   "metadata": {},
   "outputs": [],
   "source": [
    "# Tool: Set Perceived User Goal\n",
    "# to encourage collaboration with the user, the first tool only sets the perceived user goal\n",
    "\n",
    "PERCEIVED_USER_GOAL = \"perceived_user_goal\"\n",
    "\n",
    "def set_perceived_user_goal(kind_of_graph: str, graph_description:str, tool_context: ToolContext):\n",
    "    \"\"\"Sets the perceived user's goal, including the kind of graph and its description.\n",
    "    \n",
    "    Args:\n",
    "        kind_of_graph: 2-4 word definition of the kind of graph, for example \"position management hierarchy\" or \"counterparty exposure network\"\n",
    "        graph_description: a single paragraph description of the graph, summarizing the user's intent and operational objectives\n",
    "    \"\"\"\n",
    "    user_goal_data = {\"kind_of_graph\": kind_of_graph, \"graph_description\": graph_description}\n",
    "    tool_context.state[PERCEIVED_USER_GOAL] = user_goal_data\n",
    "    return tool_success(PERCEIVED_USER_GOAL, user_goal_data)"
   ]
  },
  {
   "cell_type": "code",
   "execution_count": null,
   "metadata": {},
   "outputs": [],
   "source": [
    "# Tool: Approve the perceived user goal\n",
    "# approval from the user should trigger a call to this tool\n",
    "\n",
    "APPROVED_USER_GOAL = \"approved_user_goal\"\n",
    "\n",
    "def approve_perceived_user_goal(tool_context: ToolContext):\n",
    "    \"\"\"Upon approval from user, will record the perceived user goal as the approved user goal.\n",
    "    \n",
    "    Only call this tool if the user has explicitly approved the perceived user goal.\n",
    "    \"\"\"\n",
    "    # Trust, but verify. \n",
    "    # Require that the perceived goal was set before approving it. \n",
    "    # Notice the tool error helps the agent take\n",
    "    if PERCEIVED_USER_GOAL not in tool_context.state:\n",
    "        return tool_error(\"perceived_user_goal not set. Set perceived user goal first, or ask clarifying questions if you are unsure.\")\n",
    "    \n",
    "    tool_context.state[APPROVED_USER_GOAL] = tool_context.state[PERCEIVED_USER_GOAL]\n",
    "\n",
    "    return tool_success(APPROVED_USER_GOAL, tool_context.state[APPROVED_USER_GOAL])\n"
   ]
  },
  {
   "cell_type": "code",
   "execution_count": null,
   "metadata": {},
   "outputs": [],
   "source": [
    "# add the tools to a list\n",
    "user_intent_agent_tools = [set_perceived_user_goal, approve_perceived_user_goal]"
   ]
  },
  {
   "cell_type": "markdown",
   "metadata": {},
   "source": [
    "### 4.3.3 Agent Definition"
   ]
  },
  {
   "cell_type": "code",
   "execution_count": null,
   "metadata": {},
   "outputs": [],
   "source": [
    "# Finally, construct the agent\n",
    "\n",
    "user_intent_agent = Agent(\n",
    "    name=\"user_intent_agent_v1\", # a unique, versioned name\n",
    "    model=llm, # defined earlier in a variable\n",
    "    description=\"Helps the user ideate on a knowledge graph use case.\", # used for delegation\n",
    "    instruction=complete_agent_instruction, # the complete instructions you composed earlier\n",
    "    tools=user_intent_agent_tools, # the list of tools\n",
    ")\n",
    "\n",
    "print(f\"Agent '{user_intent_agent.name}' created.\")"
   ]
  },
  {
   "cell_type": "markdown",
   "metadata": {
    "id": "5zKGVwRkSduA"
   },
   "source": [
    "## 4.4. Interact with the Agent"
   ]
  },
  {
   "cell_type": "code",
   "execution_count": null,
   "metadata": {
    "id": "yZJr8lbkSebH"
   },
   "outputs": [],
   "source": [
    "# use a helper to create an agent execution environment\n",
    "from helper import make_agent_caller\n",
    "\n",
    "# NOTE: if re-running the session, come back here to re-initialize the agent\n",
    "user_intent_caller = await make_agent_caller(user_intent_agent)"
   ]
  },
  {
   "cell_type": "code",
   "execution_count": null,
   "metadata": {
    "id": "mEd2QhHyUKY8"
   },
   "outputs": [],
   "source": [
    "# Run the Initial Conversation\n",
    "\n",
    "session_start = await user_intent_caller.get_session()\n",
    "print(f\"Session Start: {session_start.state}\") # expect this to be empty\n",
    "\n",
    "# We need an async function to await for each conversation\n",
    "async def run_conversation():\n",
    "    # start things off by describing your goal\n",
    "    await user_intent_caller.call(\"\"\"I'd like a position management hierarchy graph that tracks the complete lineage from individual trades \n",
    "    up through positions, books, desks, legal entities, and regulatory reporting structures. This should support position reconciliation, \n",
    "    P&L attribution, and regulatory reporting (e.g., CCAR, Volcker, FRTB).\"\"\") \n",
    "\n",
    "    if PERCEIVED_USER_GOAL not in session_start.state:\n",
    "        # the LLM may have asked a clarifying question. offer some more details\n",
    "        await user_intent_caller.call(\"\"\"We need to handle complex scenarios like inter-desk transfers, novations, and real-time \n",
    "        position updates across multiple asset classes including equities, fixed income, derivatives, and FX.\"\"\")        \n",
    "\n",
    "    # Optimistically presume approval.\n",
    "    await user_intent_caller.call(\"Approve that goal.\", True)\n",
    "\n",
    "await run_conversation()\n",
    "\n",
    "session_end = await user_intent_caller.get_session()"
   ]
  },
  {
   "cell_type": "markdown",
   "metadata": {
    "id": "xbUzAGvsmB2a"
   },
   "source": [
    "Take a close look at the session state.\n",
    "\n",
    "- session state starts empty, as you'd expect since we did not initialize it\n",
    "- after the conversation, there are two values in session state: `perceived_user_goal` and `approved_user_goal`\n",
    "- this duplication is intentional, separating \"working memory\" from work specification\n",
    "- subsequent steps in the workflow should only use approved work specifications\n",
    "- in production, work specifications should be persisted to enable tracing and reproducibility\n"
   ]
  },
  {
   "cell_type": "markdown",
   "metadata": {},
   "source": [
    "## 4.5. Optional - Sequence diagram illustrating the workflow of  \"User Intent Agent\"  "
   ]
  },
  {
   "cell_type": "markdown",
   "metadata": {},
   "source": [
    "<img src=\"images/user_intent_diag.png\"  width=600> "
   ]
  }
 ],
 "metadata": {
  "colab": {
   "provenance": [],
   "toc_visible": true
  },
  "kernelspec": {
   "display_name": "Python 3 (ipykernel)",
   "language": "python",
   "name": "python3"
  },
  "language_info": {
   "codemirror_mode": {
    "name": "ipython",
    "version": 3
   },
   "file_extension": ".py",
   "mimetype": "text/x-python",
   "name": "python",
   "nbconvert_exporter": "python",
   "pygments_lexer": "ipython3",
   "version": "3.11.6"
  }
 },
 "nbformat": 4,
 "nbformat_minor": 4
}
